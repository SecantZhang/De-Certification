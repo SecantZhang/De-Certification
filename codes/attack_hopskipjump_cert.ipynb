{
 "metadata": {
  "orig_nbformat": 2,
  "kernelspec": {
   "name": "python3",
   "display_name": "Python 3",
   "language": "python"
  }
 },
 "nbformat": 4,
 "nbformat_minor": 2,
 "cells": [
  {
   "cell_type": "code",
   "execution_count": 10,
   "metadata": {},
   "outputs": [],
   "source": [
    "from __future__ import absolute_import, division, print_function, unicode_literals\n",
    "\n",
    "import os \n",
    "os.chdir(\"/home/zxz147/git_clones/adversarial-robustness-toolbox/test/de-certification\")\n",
    "import sys\n",
    "import numpy as np \n",
    "import matplotlib.pyplot as plt\n",
    "\n",
    "import torch\n",
    "import torch.nn as nn\n",
    "import torch.nn.functional as F\n",
    "import torch.optim as optim \n",
    "\n",
    "from art.attacks.evasion.hop_skip_jump import HopSkipJump\n",
    "from art.estimators.classification import PyTorchClassifier\n",
    "from art.utils import load_cifar10, to_categorical\n",
    "\n",
    "from codes.smoothing.architectures import get_architecture"
   ]
  },
  {
   "cell_type": "code",
   "execution_count": 3,
   "metadata": {},
   "outputs": [],
   "source": [
    "def imshow(img):\n",
    "    img = img / 2 + 0.5   # unnormalize\n",
    "    # npimg = img   # convert from tensor\n",
    "    # plt.imshow(np.transpose(npimg, (1, 2, 0))) \n",
    "    # plt.show()\n",
    "    plt.imshow(np.transpose(img, (1, 2, 0)))\n",
    "    plt.show()"
   ]
  },
  {
   "cell_type": "code",
   "execution_count": 4,
   "metadata": {},
   "outputs": [],
   "source": [
    "checkpoint_path = \"/home/zxz147/git_clones/adversarial-robustness-toolbox/test/de-certification/models/cifar10/resnet110/noise_0.50/checkpoint.pth.tar\"\n",
    "model_architecture = \"cifar_resnet110\""
   ]
  },
  {
   "cell_type": "code",
   "execution_count": 5,
   "metadata": {},
   "outputs": [],
   "source": [
    "base_checkpoint = torch.load(checkpoint_path)\n",
    "base_classifier = get_architecture(base_checkpoint[\"arch\"], \"cifar10\")\n",
    "base_classifier.load_state_dict(base_checkpoint[\"state_dict\"])\n",
    "# base_classifier.eval()\n",
    "\n",
    "(x_train, y_train), (x_test, y_test), min_pixel_value, max_pixel_value = load_cifar10()\n",
    "x_train = np.transpose(x_train, (0, 3, 1, 2)).astype(np.float32)\n",
    "x_test = np.transpose(x_test, (0, 3, 1, 2)).astype(np.float32)\n",
    "\n",
    "criterion = nn.CrossEntropyLoss()\n",
    "optimizer = optim.Adam(base_classifier.parameters(), lr=0.01)\n",
    "pytorch_classifier = PyTorchClassifier(\n",
    "    model=base_classifier, \n",
    "    clip_values=(min_pixel_value, max_pixel_value), \n",
    "    loss=criterion, \n",
    "    optimizer=optimizer, \n",
    "    input_shape=(3, 32, 32), \n",
    "    nb_classes=10)"
   ]
  },
  {
   "cell_type": "code",
   "execution_count": 35,
   "metadata": {},
   "outputs": [
    {
     "output_type": "stream",
     "name": "stdout",
     "text": [
      "Accuracy on benign test examples: 60.14000000000001%\n",
      "Accuracy on benign train examples: 64.7%\n"
     ]
    }
   ],
   "source": [
    "# The prediction results matches the results from the paper, around 60% of the acc. \n",
    "\n",
    "predictions = pytorch_classifier.predict(x_test)\n",
    "accuracy = np.sum(np.argmax(predictions, axis=1) == np.argmax(y_test, axis=1)) / len(y_test)\n",
    "print(\"Accuracy on benign test examples: {}%\".format(accuracy * 100))\n",
    "\n",
    "predictions = pytorch_classifier.predict(x_train)\n",
    "accuracy = np.sum(np.argmax(predictions, axis=1) == np.argmax(y_train, axis=1)) / len(y_train)\n",
    "print(\"Accuracy on benign train examples: {}%\".format(accuracy * 100))"
   ]
  },
  {
   "cell_type": "code",
   "execution_count": 6,
   "metadata": {},
   "outputs": [
    {
     "output_type": "stream",
     "name": "stdout",
     "text": [
      "Init image (cat): 3\n"
     ]
    },
    {
     "output_type": "display_data",
     "data": {
      "text/plain": "<Figure size 432x288 with 1 Axes>",
      "image/svg+xml": "<?xml version=\"1.0\" encoding=\"utf-8\" standalone=\"no\"?>\n<!DOCTYPE svg PUBLIC \"-//W3C//DTD SVG 1.1//EN\"\n  \"http://www.w3.org/Graphics/SVG/1.1/DTD/svg11.dtd\">\n<!-- Created with matplotlib (https://matplotlib.org/) -->\n<svg height=\"248.919844pt\" version=\"1.1\" viewBox=\"0 0 251.565 248.919844\" width=\"251.565pt\" xmlns=\"http://www.w3.org/2000/svg\" xmlns:xlink=\"http://www.w3.org/1999/xlink\">\n <metadata>\n  <rdf:RDF xmlns:cc=\"http://creativecommons.org/ns#\" xmlns:dc=\"http://purl.org/dc/elements/1.1/\" xmlns:rdf=\"http://www.w3.org/1999/02/22-rdf-syntax-ns#\">\n   <cc:Work>\n    <dc:type rdf:resource=\"http://purl.org/dc/dcmitype/StillImage\"/>\n    <dc:date>2021-05-11T17:33:42.213471</dc:date>\n    <dc:format>image/svg+xml</dc:format>\n    <dc:creator>\n     <cc:Agent>\n      <dc:title>Matplotlib v3.3.2, https://matplotlib.org/</dc:title>\n     </cc:Agent>\n    </dc:creator>\n   </cc:Work>\n  </rdf:RDF>\n </metadata>\n <defs>\n  <style type=\"text/css\">*{stroke-linecap:butt;stroke-linejoin:round;}</style>\n </defs>\n <g id=\"figure_1\">\n  <g id=\"patch_1\">\n   <path d=\"M 0 248.919844 \nL 251.565 248.919844 \nL 251.565 0 \nL 0 0 \nz\n\" style=\"fill:none;\"/>\n  </g>\n  <g id=\"axes_1\">\n   <g id=\"patch_2\">\n    <path d=\"M 26.925 225.041719 \nL 244.365 225.041719 \nL 244.365 7.601719 \nL 26.925 7.601719 \nz\n\" style=\"fill:#ffffff;\"/>\n   </g>\n   <g clip-path=\"url(#p0e1fe4c932)\">\n    <image height=\"218\" id=\"imaged728c68c70\" transform=\"scale(1 -1)translate(0 -218)\" width=\"218\" x=\"26.925\" xlink:href=\"data:image/png;base64,\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\" y=\"-7.041719\"/>\n   </g>\n   <g id=\"matplotlib.axis_1\">\n    <g id=\"xtick_1\">\n     <g id=\"line2d_1\">\n      <defs>\n       <path d=\"M 0 0 \nL 0 3.5 \n\" id=\"ma55e89c849\" style=\"stroke:#000000;stroke-width:0.8;\"/>\n      </defs>\n      <g>\n       <use style=\"stroke:#000000;stroke-width:0.8;\" x=\"30.3225\" xlink:href=\"#ma55e89c849\" y=\"225.041719\"/>\n      </g>\n     </g>\n     <g id=\"text_1\">\n      <!-- 0 -->\n      <g transform=\"translate(27.14125 239.640156)scale(0.1 -0.1)\">\n       <defs>\n        <path d=\"M 31.78125 66.40625 \nQ 24.171875 66.40625 20.328125 58.90625 \nQ 16.5 51.421875 16.5 36.375 \nQ 16.5 21.390625 20.328125 13.890625 \nQ 24.171875 6.390625 31.78125 6.390625 \nQ 39.453125 6.390625 43.28125 13.890625 \nQ 47.125 21.390625 47.125 36.375 \nQ 47.125 51.421875 43.28125 58.90625 \nQ 39.453125 66.40625 31.78125 66.40625 \nz\nM 31.78125 74.21875 \nQ 44.046875 74.21875 50.515625 64.515625 \nQ 56.984375 54.828125 56.984375 36.375 \nQ 56.984375 17.96875 50.515625 8.265625 \nQ 44.046875 -1.421875 31.78125 -1.421875 \nQ 19.53125 -1.421875 13.0625 8.265625 \nQ 6.59375 17.96875 6.59375 36.375 \nQ 6.59375 54.828125 13.0625 64.515625 \nQ 19.53125 74.21875 31.78125 74.21875 \nz\n\" id=\"DejaVuSans-48\"/>\n       </defs>\n       <use xlink:href=\"#DejaVuSans-48\"/>\n      </g>\n     </g>\n    </g>\n    <g id=\"xtick_2\">\n     <g id=\"line2d_2\">\n      <g>\n       <use style=\"stroke:#000000;stroke-width:0.8;\" x=\"64.2975\" xlink:href=\"#ma55e89c849\" y=\"225.041719\"/>\n      </g>\n     </g>\n     <g id=\"text_2\">\n      <!-- 5 -->\n      <g transform=\"translate(61.11625 239.640156)scale(0.1 -0.1)\">\n       <defs>\n        <path d=\"M 10.796875 72.90625 \nL 49.515625 72.90625 \nL 49.515625 64.59375 \nL 19.828125 64.59375 \nL 19.828125 46.734375 \nQ 21.96875 47.46875 24.109375 47.828125 \nQ 26.265625 48.1875 28.421875 48.1875 \nQ 40.625 48.1875 47.75 41.5 \nQ 54.890625 34.8125 54.890625 23.390625 \nQ 54.890625 11.625 47.5625 5.09375 \nQ 40.234375 -1.421875 26.90625 -1.421875 \nQ 22.3125 -1.421875 17.546875 -0.640625 \nQ 12.796875 0.140625 7.71875 1.703125 \nL 7.71875 11.625 \nQ 12.109375 9.234375 16.796875 8.0625 \nQ 21.484375 6.890625 26.703125 6.890625 \nQ 35.15625 6.890625 40.078125 11.328125 \nQ 45.015625 15.765625 45.015625 23.390625 \nQ 45.015625 31 40.078125 35.4375 \nQ 35.15625 39.890625 26.703125 39.890625 \nQ 22.75 39.890625 18.8125 39.015625 \nQ 14.890625 38.140625 10.796875 36.28125 \nz\n\" id=\"DejaVuSans-53\"/>\n       </defs>\n       <use xlink:href=\"#DejaVuSans-53\"/>\n      </g>\n     </g>\n    </g>\n    <g id=\"xtick_3\">\n     <g id=\"line2d_3\">\n      <g>\n       <use style=\"stroke:#000000;stroke-width:0.8;\" x=\"98.2725\" xlink:href=\"#ma55e89c849\" y=\"225.041719\"/>\n      </g>\n     </g>\n     <g id=\"text_3\">\n      <!-- 10 -->\n      <g transform=\"translate(91.91 239.640156)scale(0.1 -0.1)\">\n       <defs>\n        <path d=\"M 12.40625 8.296875 \nL 28.515625 8.296875 \nL 28.515625 63.921875 \nL 10.984375 60.40625 \nL 10.984375 69.390625 \nL 28.421875 72.90625 \nL 38.28125 72.90625 \nL 38.28125 8.296875 \nL 54.390625 8.296875 \nL 54.390625 0 \nL 12.40625 0 \nz\n\" id=\"DejaVuSans-49\"/>\n       </defs>\n       <use xlink:href=\"#DejaVuSans-49\"/>\n       <use x=\"63.623047\" xlink:href=\"#DejaVuSans-48\"/>\n      </g>\n     </g>\n    </g>\n    <g id=\"xtick_4\">\n     <g id=\"line2d_4\">\n      <g>\n       <use style=\"stroke:#000000;stroke-width:0.8;\" x=\"132.2475\" xlink:href=\"#ma55e89c849\" y=\"225.041719\"/>\n      </g>\n     </g>\n     <g id=\"text_4\">\n      <!-- 15 -->\n      <g transform=\"translate(125.885 239.640156)scale(0.1 -0.1)\">\n       <use xlink:href=\"#DejaVuSans-49\"/>\n       <use x=\"63.623047\" xlink:href=\"#DejaVuSans-53\"/>\n      </g>\n     </g>\n    </g>\n    <g id=\"xtick_5\">\n     <g id=\"line2d_5\">\n      <g>\n       <use style=\"stroke:#000000;stroke-width:0.8;\" x=\"166.2225\" xlink:href=\"#ma55e89c849\" y=\"225.041719\"/>\n      </g>\n     </g>\n     <g id=\"text_5\">\n      <!-- 20 -->\n      <g transform=\"translate(159.86 239.640156)scale(0.1 -0.1)\">\n       <defs>\n        <path d=\"M 19.1875 8.296875 \nL 53.609375 8.296875 \nL 53.609375 0 \nL 7.328125 0 \nL 7.328125 8.296875 \nQ 12.9375 14.109375 22.625 23.890625 \nQ 32.328125 33.6875 34.8125 36.53125 \nQ 39.546875 41.84375 41.421875 45.53125 \nQ 43.3125 49.21875 43.3125 52.78125 \nQ 43.3125 58.59375 39.234375 62.25 \nQ 35.15625 65.921875 28.609375 65.921875 \nQ 23.96875 65.921875 18.8125 64.3125 \nQ 13.671875 62.703125 7.8125 59.421875 \nL 7.8125 69.390625 \nQ 13.765625 71.78125 18.9375 73 \nQ 24.125 74.21875 28.421875 74.21875 \nQ 39.75 74.21875 46.484375 68.546875 \nQ 53.21875 62.890625 53.21875 53.421875 \nQ 53.21875 48.921875 51.53125 44.890625 \nQ 49.859375 40.875 45.40625 35.40625 \nQ 44.1875 33.984375 37.640625 27.21875 \nQ 31.109375 20.453125 19.1875 8.296875 \nz\n\" id=\"DejaVuSans-50\"/>\n       </defs>\n       <use xlink:href=\"#DejaVuSans-50\"/>\n       <use x=\"63.623047\" xlink:href=\"#DejaVuSans-48\"/>\n      </g>\n     </g>\n    </g>\n    <g id=\"xtick_6\">\n     <g id=\"line2d_6\">\n      <g>\n       <use style=\"stroke:#000000;stroke-width:0.8;\" x=\"200.1975\" xlink:href=\"#ma55e89c849\" y=\"225.041719\"/>\n      </g>\n     </g>\n     <g id=\"text_6\">\n      <!-- 25 -->\n      <g transform=\"translate(193.835 239.640156)scale(0.1 -0.1)\">\n       <use xlink:href=\"#DejaVuSans-50\"/>\n       <use x=\"63.623047\" xlink:href=\"#DejaVuSans-53\"/>\n      </g>\n     </g>\n    </g>\n    <g id=\"xtick_7\">\n     <g id=\"line2d_7\">\n      <g>\n       <use style=\"stroke:#000000;stroke-width:0.8;\" x=\"234.1725\" xlink:href=\"#ma55e89c849\" y=\"225.041719\"/>\n      </g>\n     </g>\n     <g id=\"text_7\">\n      <!-- 30 -->\n      <g transform=\"translate(227.81 239.640156)scale(0.1 -0.1)\">\n       <defs>\n        <path d=\"M 40.578125 39.3125 \nQ 47.65625 37.796875 51.625 33 \nQ 55.609375 28.21875 55.609375 21.1875 \nQ 55.609375 10.40625 48.1875 4.484375 \nQ 40.765625 -1.421875 27.09375 -1.421875 \nQ 22.515625 -1.421875 17.65625 -0.515625 \nQ 12.796875 0.390625 7.625 2.203125 \nL 7.625 11.71875 \nQ 11.71875 9.328125 16.59375 8.109375 \nQ 21.484375 6.890625 26.8125 6.890625 \nQ 36.078125 6.890625 40.9375 10.546875 \nQ 45.796875 14.203125 45.796875 21.1875 \nQ 45.796875 27.640625 41.28125 31.265625 \nQ 36.765625 34.90625 28.71875 34.90625 \nL 20.21875 34.90625 \nL 20.21875 43.015625 \nL 29.109375 43.015625 \nQ 36.375 43.015625 40.234375 45.921875 \nQ 44.09375 48.828125 44.09375 54.296875 \nQ 44.09375 59.90625 40.109375 62.90625 \nQ 36.140625 65.921875 28.71875 65.921875 \nQ 24.65625 65.921875 20.015625 65.03125 \nQ 15.375 64.15625 9.8125 62.3125 \nL 9.8125 71.09375 \nQ 15.4375 72.65625 20.34375 73.4375 \nQ 25.25 74.21875 29.59375 74.21875 \nQ 40.828125 74.21875 47.359375 69.109375 \nQ 53.90625 64.015625 53.90625 55.328125 \nQ 53.90625 49.265625 50.4375 45.09375 \nQ 46.96875 40.921875 40.578125 39.3125 \nz\n\" id=\"DejaVuSans-51\"/>\n       </defs>\n       <use xlink:href=\"#DejaVuSans-51\"/>\n       <use x=\"63.623047\" xlink:href=\"#DejaVuSans-48\"/>\n      </g>\n     </g>\n    </g>\n   </g>\n   <g id=\"matplotlib.axis_2\">\n    <g id=\"ytick_1\">\n     <g id=\"line2d_8\">\n      <defs>\n       <path d=\"M 0 0 \nL -3.5 0 \n\" id=\"mef12383949\" style=\"stroke:#000000;stroke-width:0.8;\"/>\n      </defs>\n      <g>\n       <use style=\"stroke:#000000;stroke-width:0.8;\" x=\"26.925\" xlink:href=\"#mef12383949\" y=\"10.999219\"/>\n      </g>\n     </g>\n     <g id=\"text_8\">\n      <!-- 0 -->\n      <g transform=\"translate(13.5625 14.798437)scale(0.1 -0.1)\">\n       <use xlink:href=\"#DejaVuSans-48\"/>\n      </g>\n     </g>\n    </g>\n    <g id=\"ytick_2\">\n     <g id=\"line2d_9\">\n      <g>\n       <use style=\"stroke:#000000;stroke-width:0.8;\" x=\"26.925\" xlink:href=\"#mef12383949\" y=\"44.974219\"/>\n      </g>\n     </g>\n     <g id=\"text_9\">\n      <!-- 5 -->\n      <g transform=\"translate(13.5625 48.773437)scale(0.1 -0.1)\">\n       <use xlink:href=\"#DejaVuSans-53\"/>\n      </g>\n     </g>\n    </g>\n    <g id=\"ytick_3\">\n     <g id=\"line2d_10\">\n      <g>\n       <use style=\"stroke:#000000;stroke-width:0.8;\" x=\"26.925\" xlink:href=\"#mef12383949\" y=\"78.949219\"/>\n      </g>\n     </g>\n     <g id=\"text_10\">\n      <!-- 10 -->\n      <g transform=\"translate(7.2 82.748437)scale(0.1 -0.1)\">\n       <use xlink:href=\"#DejaVuSans-49\"/>\n       <use x=\"63.623047\" xlink:href=\"#DejaVuSans-48\"/>\n      </g>\n     </g>\n    </g>\n    <g id=\"ytick_4\">\n     <g id=\"line2d_11\">\n      <g>\n       <use style=\"stroke:#000000;stroke-width:0.8;\" x=\"26.925\" xlink:href=\"#mef12383949\" y=\"112.924219\"/>\n      </g>\n     </g>\n     <g id=\"text_11\">\n      <!-- 15 -->\n      <g transform=\"translate(7.2 116.723437)scale(0.1 -0.1)\">\n       <use xlink:href=\"#DejaVuSans-49\"/>\n       <use x=\"63.623047\" xlink:href=\"#DejaVuSans-53\"/>\n      </g>\n     </g>\n    </g>\n    <g id=\"ytick_5\">\n     <g id=\"line2d_12\">\n      <g>\n       <use style=\"stroke:#000000;stroke-width:0.8;\" x=\"26.925\" xlink:href=\"#mef12383949\" y=\"146.899219\"/>\n      </g>\n     </g>\n     <g id=\"text_12\">\n      <!-- 20 -->\n      <g transform=\"translate(7.2 150.698437)scale(0.1 -0.1)\">\n       <use xlink:href=\"#DejaVuSans-50\"/>\n       <use x=\"63.623047\" xlink:href=\"#DejaVuSans-48\"/>\n      </g>\n     </g>\n    </g>\n    <g id=\"ytick_6\">\n     <g id=\"line2d_13\">\n      <g>\n       <use style=\"stroke:#000000;stroke-width:0.8;\" x=\"26.925\" xlink:href=\"#mef12383949\" y=\"180.874219\"/>\n      </g>\n     </g>\n     <g id=\"text_13\">\n      <!-- 25 -->\n      <g transform=\"translate(7.2 184.673437)scale(0.1 -0.1)\">\n       <use xlink:href=\"#DejaVuSans-50\"/>\n       <use x=\"63.623047\" xlink:href=\"#DejaVuSans-53\"/>\n      </g>\n     </g>\n    </g>\n    <g id=\"ytick_7\">\n     <g id=\"line2d_14\">\n      <g>\n       <use style=\"stroke:#000000;stroke-width:0.8;\" x=\"26.925\" xlink:href=\"#mef12383949\" y=\"214.849219\"/>\n      </g>\n     </g>\n     <g id=\"text_14\">\n      <!-- 30 -->\n      <g transform=\"translate(7.2 218.648437)scale(0.1 -0.1)\">\n       <use xlink:href=\"#DejaVuSans-51\"/>\n       <use x=\"63.623047\" xlink:href=\"#DejaVuSans-48\"/>\n      </g>\n     </g>\n    </g>\n   </g>\n   <g id=\"patch_3\">\n    <path d=\"M 26.925 225.041719 \nL 26.925 7.601719 \n\" style=\"fill:none;stroke:#000000;stroke-linecap:square;stroke-linejoin:miter;stroke-width:0.8;\"/>\n   </g>\n   <g id=\"patch_4\">\n    <path d=\"M 244.365 225.041719 \nL 244.365 7.601719 \n\" style=\"fill:none;stroke:#000000;stroke-linecap:square;stroke-linejoin:miter;stroke-width:0.8;\"/>\n   </g>\n   <g id=\"patch_5\">\n    <path d=\"M 26.925 225.041719 \nL 244.365 225.041719 \n\" style=\"fill:none;stroke:#000000;stroke-linecap:square;stroke-linejoin:miter;stroke-width:0.8;\"/>\n   </g>\n   <g id=\"patch_6\">\n    <path d=\"M 26.925 7.601719 \nL 244.365 7.601719 \n\" style=\"fill:none;stroke:#000000;stroke-linecap:square;stroke-linejoin:miter;stroke-width:0.8;\"/>\n   </g>\n  </g>\n </g>\n <defs>\n  <clipPath id=\"p0e1fe4c932\">\n   <rect height=\"217.44\" width=\"217.44\" x=\"26.925\" y=\"7.601719\"/>\n  </clipPath>\n </defs>\n</svg>\n",
      "image/png": "[encoded data removed]"
     },
     "metadata": {
      "needs_background": "light"
     }
    },
    {
     "output_type": "stream",
     "name": "stdout",
     "text": [
      "Target image (dog): 5\n"
     ]
    },
    {
     "output_type": "display_data",
     "data": {
      "text/plain": "<Figure size 432x288 with 1 Axes>",
      "image/svg+xml": "<?xml version=\"1.0\" encoding=\"utf-8\" standalone=\"no\"?>\n<!DOCTYPE svg PUBLIC \"-//W3C//DTD SVG 1.1//EN\"\n  \"http://www.w3.org/Graphics/SVG/1.1/DTD/svg11.dtd\">\n<!-- Created with matplotlib (https://matplotlib.org/) -->\n<svg height=\"248.919844pt\" version=\"1.1\" viewBox=\"0 0 251.565 248.919844\" width=\"251.565pt\" xmlns=\"http://www.w3.org/2000/svg\" xmlns:xlink=\"http://www.w3.org/1999/xlink\">\n <metadata>\n  <rdf:RDF xmlns:cc=\"http://creativecommons.org/ns#\" xmlns:dc=\"http://purl.org/dc/elements/1.1/\" xmlns:rdf=\"http://www.w3.org/1999/02/22-rdf-syntax-ns#\">\n   <cc:Work>\n    <dc:type rdf:resource=\"http://purl.org/dc/dcmitype/StillImage\"/>\n    <dc:date>2021-05-11T17:33:42.436908</dc:date>\n    <dc:format>image/svg+xml</dc:format>\n    <dc:creator>\n     <cc:Agent>\n      <dc:title>Matplotlib v3.3.2, https://matplotlib.org/</dc:title>\n     </cc:Agent>\n    </dc:creator>\n   </cc:Work>\n  </rdf:RDF>\n </metadata>\n <defs>\n  <style type=\"text/css\">*{stroke-linecap:butt;stroke-linejoin:round;}</style>\n </defs>\n <g id=\"figure_1\">\n  <g id=\"patch_1\">\n   <path d=\"M 0 248.919844 \nL 251.565 248.919844 \nL 251.565 0 \nL 0 0 \nz\n\" style=\"fill:none;\"/>\n  </g>\n  <g id=\"axes_1\">\n   <g id=\"patch_2\">\n    <path d=\"M 26.925 225.041719 \nL 244.365 225.041719 \nL 244.365 7.601719 \nL 26.925 7.601719 \nz\n\" style=\"fill:#ffffff;\"/>\n   </g>\n   <g clip-path=\"url(#p29120c1cca)\">\n    <image height=\"218\" id=\"imageb388bbd6fb\" transform=\"scale(1 -1)translate(0 -218)\" width=\"218\" x=\"26.925\" xlink:href=\"data:image/png;base64,\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\" y=\"-7.041719\"/>\n   </g>\n   <g id=\"matplotlib.axis_1\">\n    <g id=\"xtick_1\">\n     <g id=\"line2d_1\">\n      <defs>\n       <path d=\"M 0 0 \nL 0 3.5 \n\" id=\"mc02486b3ac\" style=\"stroke:#000000;stroke-width:0.8;\"/>\n      </defs>\n      <g>\n       <use style=\"stroke:#000000;stroke-width:0.8;\" x=\"30.3225\" xlink:href=\"#mc02486b3ac\" y=\"225.041719\"/>\n      </g>\n     </g>\n     <g id=\"text_1\">\n      <!-- 0 -->\n      <g transform=\"translate(27.14125 239.640156)scale(0.1 -0.1)\">\n       <defs>\n        <path d=\"M 31.78125 66.40625 \nQ 24.171875 66.40625 20.328125 58.90625 \nQ 16.5 51.421875 16.5 36.375 \nQ 16.5 21.390625 20.328125 13.890625 \nQ 24.171875 6.390625 31.78125 6.390625 \nQ 39.453125 6.390625 43.28125 13.890625 \nQ 47.125 21.390625 47.125 36.375 \nQ 47.125 51.421875 43.28125 58.90625 \nQ 39.453125 66.40625 31.78125 66.40625 \nz\nM 31.78125 74.21875 \nQ 44.046875 74.21875 50.515625 64.515625 \nQ 56.984375 54.828125 56.984375 36.375 \nQ 56.984375 17.96875 50.515625 8.265625 \nQ 44.046875 -1.421875 31.78125 -1.421875 \nQ 19.53125 -1.421875 13.0625 8.265625 \nQ 6.59375 17.96875 6.59375 36.375 \nQ 6.59375 54.828125 13.0625 64.515625 \nQ 19.53125 74.21875 31.78125 74.21875 \nz\n\" id=\"DejaVuSans-48\"/>\n       </defs>\n       <use xlink:href=\"#DejaVuSans-48\"/>\n      </g>\n     </g>\n    </g>\n    <g id=\"xtick_2\">\n     <g id=\"line2d_2\">\n      <g>\n       <use style=\"stroke:#000000;stroke-width:0.8;\" x=\"64.2975\" xlink:href=\"#mc02486b3ac\" y=\"225.041719\"/>\n      </g>\n     </g>\n     <g id=\"text_2\">\n      <!-- 5 -->\n      <g transform=\"translate(61.11625 239.640156)scale(0.1 -0.1)\">\n       <defs>\n        <path d=\"M 10.796875 72.90625 \nL 49.515625 72.90625 \nL 49.515625 64.59375 \nL 19.828125 64.59375 \nL 19.828125 46.734375 \nQ 21.96875 47.46875 24.109375 47.828125 \nQ 26.265625 48.1875 28.421875 48.1875 \nQ 40.625 48.1875 47.75 41.5 \nQ 54.890625 34.8125 54.890625 23.390625 \nQ 54.890625 11.625 47.5625 5.09375 \nQ 40.234375 -1.421875 26.90625 -1.421875 \nQ 22.3125 -1.421875 17.546875 -0.640625 \nQ 12.796875 0.140625 7.71875 1.703125 \nL 7.71875 11.625 \nQ 12.109375 9.234375 16.796875 8.0625 \nQ 21.484375 6.890625 26.703125 6.890625 \nQ 35.15625 6.890625 40.078125 11.328125 \nQ 45.015625 15.765625 45.015625 23.390625 \nQ 45.015625 31 40.078125 35.4375 \nQ 35.15625 39.890625 26.703125 39.890625 \nQ 22.75 39.890625 18.8125 39.015625 \nQ 14.890625 38.140625 10.796875 36.28125 \nz\n\" id=\"DejaVuSans-53\"/>\n       </defs>\n       <use xlink:href=\"#DejaVuSans-53\"/>\n      </g>\n     </g>\n    </g>\n    <g id=\"xtick_3\">\n     <g id=\"line2d_3\">\n      <g>\n       <use style=\"stroke:#000000;stroke-width:0.8;\" x=\"98.2725\" xlink:href=\"#mc02486b3ac\" y=\"225.041719\"/>\n      </g>\n     </g>\n     <g id=\"text_3\">\n      <!-- 10 -->\n      <g transform=\"translate(91.91 239.640156)scale(0.1 -0.1)\">\n       <defs>\n        <path d=\"M 12.40625 8.296875 \nL 28.515625 8.296875 \nL 28.515625 63.921875 \nL 10.984375 60.40625 \nL 10.984375 69.390625 \nL 28.421875 72.90625 \nL 38.28125 72.90625 \nL 38.28125 8.296875 \nL 54.390625 8.296875 \nL 54.390625 0 \nL 12.40625 0 \nz\n\" id=\"DejaVuSans-49\"/>\n       </defs>\n       <use xlink:href=\"#DejaVuSans-49\"/>\n       <use x=\"63.623047\" xlink:href=\"#DejaVuSans-48\"/>\n      </g>\n     </g>\n    </g>\n    <g id=\"xtick_4\">\n     <g id=\"line2d_4\">\n      <g>\n       <use style=\"stroke:#000000;stroke-width:0.8;\" x=\"132.2475\" xlink:href=\"#mc02486b3ac\" y=\"225.041719\"/>\n      </g>\n     </g>\n     <g id=\"text_4\">\n      <!-- 15 -->\n      <g transform=\"translate(125.885 239.640156)scale(0.1 -0.1)\">\n       <use xlink:href=\"#DejaVuSans-49\"/>\n       <use x=\"63.623047\" xlink:href=\"#DejaVuSans-53\"/>\n      </g>\n     </g>\n    </g>\n    <g id=\"xtick_5\">\n     <g id=\"line2d_5\">\n      <g>\n       <use style=\"stroke:#000000;stroke-width:0.8;\" x=\"166.2225\" xlink:href=\"#mc02486b3ac\" y=\"225.041719\"/>\n      </g>\n     </g>\n     <g id=\"text_5\">\n      <!-- 20 -->\n      <g transform=\"translate(159.86 239.640156)scale(0.1 -0.1)\">\n       <defs>\n        <path d=\"M 19.1875 8.296875 \nL 53.609375 8.296875 \nL 53.609375 0 \nL 7.328125 0 \nL 7.328125 8.296875 \nQ 12.9375 14.109375 22.625 23.890625 \nQ 32.328125 33.6875 34.8125 36.53125 \nQ 39.546875 41.84375 41.421875 45.53125 \nQ 43.3125 49.21875 43.3125 52.78125 \nQ 43.3125 58.59375 39.234375 62.25 \nQ 35.15625 65.921875 28.609375 65.921875 \nQ 23.96875 65.921875 18.8125 64.3125 \nQ 13.671875 62.703125 7.8125 59.421875 \nL 7.8125 69.390625 \nQ 13.765625 71.78125 18.9375 73 \nQ 24.125 74.21875 28.421875 74.21875 \nQ 39.75 74.21875 46.484375 68.546875 \nQ 53.21875 62.890625 53.21875 53.421875 \nQ 53.21875 48.921875 51.53125 44.890625 \nQ 49.859375 40.875 45.40625 35.40625 \nQ 44.1875 33.984375 37.640625 27.21875 \nQ 31.109375 20.453125 19.1875 8.296875 \nz\n\" id=\"DejaVuSans-50\"/>\n       </defs>\n       <use xlink:href=\"#DejaVuSans-50\"/>\n       <use x=\"63.623047\" xlink:href=\"#DejaVuSans-48\"/>\n      </g>\n     </g>\n    </g>\n    <g id=\"xtick_6\">\n     <g id=\"line2d_6\">\n      <g>\n       <use style=\"stroke:#000000;stroke-width:0.8;\" x=\"200.1975\" xlink:href=\"#mc02486b3ac\" y=\"225.041719\"/>\n      </g>\n     </g>\n     <g id=\"text_6\">\n      <!-- 25 -->\n      <g transform=\"translate(193.835 239.640156)scale(0.1 -0.1)\">\n       <use xlink:href=\"#DejaVuSans-50\"/>\n       <use x=\"63.623047\" xlink:href=\"#DejaVuSans-53\"/>\n      </g>\n     </g>\n    </g>\n    <g id=\"xtick_7\">\n     <g id=\"line2d_7\">\n      <g>\n       <use style=\"stroke:#000000;stroke-width:0.8;\" x=\"234.1725\" xlink:href=\"#mc02486b3ac\" y=\"225.041719\"/>\n      </g>\n     </g>\n     <g id=\"text_7\">\n      <!-- 30 -->\n      <g transform=\"translate(227.81 239.640156)scale(0.1 -0.1)\">\n       <defs>\n        <path d=\"M 40.578125 39.3125 \nQ 47.65625 37.796875 51.625 33 \nQ 55.609375 28.21875 55.609375 21.1875 \nQ 55.609375 10.40625 48.1875 4.484375 \nQ 40.765625 -1.421875 27.09375 -1.421875 \nQ 22.515625 -1.421875 17.65625 -0.515625 \nQ 12.796875 0.390625 7.625 2.203125 \nL 7.625 11.71875 \nQ 11.71875 9.328125 16.59375 8.109375 \nQ 21.484375 6.890625 26.8125 6.890625 \nQ 36.078125 6.890625 40.9375 10.546875 \nQ 45.796875 14.203125 45.796875 21.1875 \nQ 45.796875 27.640625 41.28125 31.265625 \nQ 36.765625 34.90625 28.71875 34.90625 \nL 20.21875 34.90625 \nL 20.21875 43.015625 \nL 29.109375 43.015625 \nQ 36.375 43.015625 40.234375 45.921875 \nQ 44.09375 48.828125 44.09375 54.296875 \nQ 44.09375 59.90625 40.109375 62.90625 \nQ 36.140625 65.921875 28.71875 65.921875 \nQ 24.65625 65.921875 20.015625 65.03125 \nQ 15.375 64.15625 9.8125 62.3125 \nL 9.8125 71.09375 \nQ 15.4375 72.65625 20.34375 73.4375 \nQ 25.25 74.21875 29.59375 74.21875 \nQ 40.828125 74.21875 47.359375 69.109375 \nQ 53.90625 64.015625 53.90625 55.328125 \nQ 53.90625 49.265625 50.4375 45.09375 \nQ 46.96875 40.921875 40.578125 39.3125 \nz\n\" id=\"DejaVuSans-51\"/>\n       </defs>\n       <use xlink:href=\"#DejaVuSans-51\"/>\n       <use x=\"63.623047\" xlink:href=\"#DejaVuSans-48\"/>\n      </g>\n     </g>\n    </g>\n   </g>\n   <g id=\"matplotlib.axis_2\">\n    <g id=\"ytick_1\">\n     <g id=\"line2d_8\">\n      <defs>\n       <path d=\"M 0 0 \nL -3.5 0 \n\" id=\"m1320bfc98e\" style=\"stroke:#000000;stroke-width:0.8;\"/>\n      </defs>\n      <g>\n       <use style=\"stroke:#000000;stroke-width:0.8;\" x=\"26.925\" xlink:href=\"#m1320bfc98e\" y=\"10.999219\"/>\n      </g>\n     </g>\n     <g id=\"text_8\">\n      <!-- 0 -->\n      <g transform=\"translate(13.5625 14.798437)scale(0.1 -0.1)\">\n       <use xlink:href=\"#DejaVuSans-48\"/>\n      </g>\n     </g>\n    </g>\n    <g id=\"ytick_2\">\n     <g id=\"line2d_9\">\n      <g>\n       <use style=\"stroke:#000000;stroke-width:0.8;\" x=\"26.925\" xlink:href=\"#m1320bfc98e\" y=\"44.974219\"/>\n      </g>\n     </g>\n     <g id=\"text_9\">\n      <!-- 5 -->\n      <g transform=\"translate(13.5625 48.773437)scale(0.1 -0.1)\">\n       <use xlink:href=\"#DejaVuSans-53\"/>\n      </g>\n     </g>\n    </g>\n    <g id=\"ytick_3\">\n     <g id=\"line2d_10\">\n      <g>\n       <use style=\"stroke:#000000;stroke-width:0.8;\" x=\"26.925\" xlink:href=\"#m1320bfc98e\" y=\"78.949219\"/>\n      </g>\n     </g>\n     <g id=\"text_10\">\n      <!-- 10 -->\n      <g transform=\"translate(7.2 82.748437)scale(0.1 -0.1)\">\n       <use xlink:href=\"#DejaVuSans-49\"/>\n       <use x=\"63.623047\" xlink:href=\"#DejaVuSans-48\"/>\n      </g>\n     </g>\n    </g>\n    <g id=\"ytick_4\">\n     <g id=\"line2d_11\">\n      <g>\n       <use style=\"stroke:#000000;stroke-width:0.8;\" x=\"26.925\" xlink:href=\"#m1320bfc98e\" y=\"112.924219\"/>\n      </g>\n     </g>\n     <g id=\"text_11\">\n      <!-- 15 -->\n      <g transform=\"translate(7.2 116.723437)scale(0.1 -0.1)\">\n       <use xlink:href=\"#DejaVuSans-49\"/>\n       <use x=\"63.623047\" xlink:href=\"#DejaVuSans-53\"/>\n      </g>\n     </g>\n    </g>\n    <g id=\"ytick_5\">\n     <g id=\"line2d_12\">\n      <g>\n       <use style=\"stroke:#000000;stroke-width:0.8;\" x=\"26.925\" xlink:href=\"#m1320bfc98e\" y=\"146.899219\"/>\n      </g>\n     </g>\n     <g id=\"text_12\">\n      <!-- 20 -->\n      <g transform=\"translate(7.2 150.698437)scale(0.1 -0.1)\">\n       <use xlink:href=\"#DejaVuSans-50\"/>\n       <use x=\"63.623047\" xlink:href=\"#DejaVuSans-48\"/>\n      </g>\n     </g>\n    </g>\n    <g id=\"ytick_6\">\n     <g id=\"line2d_13\">\n      <g>\n       <use style=\"stroke:#000000;stroke-width:0.8;\" x=\"26.925\" xlink:href=\"#m1320bfc98e\" y=\"180.874219\"/>\n      </g>\n     </g>\n     <g id=\"text_13\">\n      <!-- 25 -->\n      <g transform=\"translate(7.2 184.673437)scale(0.1 -0.1)\">\n       <use xlink:href=\"#DejaVuSans-50\"/>\n       <use x=\"63.623047\" xlink:href=\"#DejaVuSans-53\"/>\n      </g>\n     </g>\n    </g>\n    <g id=\"ytick_7\">\n     <g id=\"line2d_14\">\n      <g>\n       <use style=\"stroke:#000000;stroke-width:0.8;\" x=\"26.925\" xlink:href=\"#m1320bfc98e\" y=\"214.849219\"/>\n      </g>\n     </g>\n     <g id=\"text_14\">\n      <!-- 30 -->\n      <g transform=\"translate(7.2 218.648437)scale(0.1 -0.1)\">\n       <use xlink:href=\"#DejaVuSans-51\"/>\n       <use x=\"63.623047\" xlink:href=\"#DejaVuSans-48\"/>\n      </g>\n     </g>\n    </g>\n   </g>\n   <g id=\"patch_3\">\n    <path d=\"M 26.925 225.041719 \nL 26.925 7.601719 \n\" style=\"fill:none;stroke:#000000;stroke-linecap:square;stroke-linejoin:miter;stroke-width:0.8;\"/>\n   </g>\n   <g id=\"patch_4\">\n    <path d=\"M 244.365 225.041719 \nL 244.365 7.601719 \n\" style=\"fill:none;stroke:#000000;stroke-linecap:square;stroke-linejoin:miter;stroke-width:0.8;\"/>\n   </g>\n   <g id=\"patch_5\">\n    <path d=\"M 26.925 225.041719 \nL 244.365 225.041719 \n\" style=\"fill:none;stroke:#000000;stroke-linecap:square;stroke-linejoin:miter;stroke-width:0.8;\"/>\n   </g>\n   <g id=\"patch_6\">\n    <path d=\"M 26.925 7.601719 \nL 244.365 7.601719 \n\" style=\"fill:none;stroke:#000000;stroke-linecap:square;stroke-linejoin:miter;stroke-width:0.8;\"/>\n   </g>\n  </g>\n </g>\n <defs>\n  <clipPath id=\"p29120c1cca\">\n   <rect height=\"217.44\" width=\"217.44\" x=\"26.925\" y=\"7.601719\"/>\n  </clipPath>\n </defs>\n</svg>\n",
      "image/png": "[encoded data removed]"
     },
     "metadata": {
      "needs_background": "light"
     }
    }
   ],
   "source": [
    "# Obtaining the init (cat) and target (dog) images. \n",
    "img_init, img_targ = None, None\n",
    "imgs_found = [False, False]\n",
    "\n",
    "for img, label in zip(x_test, y_test):\n",
    "    if np.argmax(label) == 3 and not imgs_found[0]: \n",
    "        img_init = img\n",
    "        imgs_found[0] = True\n",
    "    if np.argmax(label) == 5 and not imgs_found[1]: \n",
    "        img_targ = img\n",
    "        imgs_found[1] = True\n",
    "\n",
    "print(\"Init image (cat): {}\".format(np.argmax(pytorch_classifier.predict(np.expand_dims(img_init, 0)))))\n",
    "imshow(img_init)\n",
    "print(\"Target image (dog): {}\".format(np.argmax(pytorch_classifier.predict(np.expand_dims(img_targ, 0)))))\n",
    "imshow(img_targ)"
   ]
  },
  {
   "cell_type": "code",
   "execution_count": 49,
   "metadata": {},
   "outputs": [
    {
     "output_type": "display_data",
     "data": {
      "text/plain": "HBox(children=(HTML(value='HopSkipJump'), FloatProgress(value=0.0, max=1.0), HTML(value='')))",
      "application/vnd.jupyter.widget-view+json": {
       "version_major": 2,
       "version_minor": 0,
       "model_id": "32cb06a039b9476fbeabb2136646c4df"
      }
     },
     "metadata": {}
    },
    {
     "output_type": "stream",
     "name": "stdout",
     "text": [
      "\nAdversarial image at step 0. L2 error 7.70459 and class label 4.\n"
     ]
    },
    {
     "output_type": "display_data",
     "data": {
      "text/plain": "HBox(children=(HTML(value='HopSkipJump'), FloatProgress(value=0.0, max=1.0), HTML(value='')))",
      "application/vnd.jupyter.widget-view+json": {
       "version_major": 2,
       "version_minor": 0,
       "model_id": "32b26b6a207c4d3590d83eb32f50eee9"
      }
     },
     "metadata": {}
    },
    {
     "output_type": "stream",
     "name": "stdout",
     "text": [
      "\nAdversarial image at step 10. L2 error 4.001956 and class label 4.\n"
     ]
    },
    {
     "output_type": "display_data",
     "data": {
      "text/plain": "HBox(children=(HTML(value='HopSkipJump'), FloatProgress(value=0.0, max=1.0), HTML(value='')))",
      "application/vnd.jupyter.widget-view+json": {
       "version_major": 2,
       "version_minor": 0,
       "model_id": "becd36327ff3439990e6ae3a42fefe29"
      }
     },
     "metadata": {}
    },
    {
     "output_type": "stream",
     "name": "stdout",
     "text": [
      "\nAdversarial image at step 20. L2 error 2.3624551 and class label 4.\n"
     ]
    },
    {
     "output_type": "display_data",
     "data": {
      "text/plain": "HBox(children=(HTML(value='HopSkipJump'), FloatProgress(value=0.0, max=1.0), HTML(value='')))",
      "application/vnd.jupyter.widget-view+json": {
       "version_major": 2,
       "version_minor": 0,
       "model_id": "2b3bdbe25c8942e88ff55741e0e8e40d"
      }
     },
     "metadata": {}
    },
    {
     "output_type": "stream",
     "name": "stdout",
     "text": [
      "\nAdversarial image at step 30. L2 error 1.7406193 and class label 4.\n"
     ]
    },
    {
     "output_type": "display_data",
     "data": {
      "text/plain": "HBox(children=(HTML(value='HopSkipJump'), FloatProgress(value=0.0, max=1.0), HTML(value='')))",
      "application/vnd.jupyter.widget-view+json": {
       "version_major": 2,
       "version_minor": 0,
       "model_id": "9bddb55e46914be19debf2b8221cfab4"
      }
     },
     "metadata": {}
    },
    {
     "output_type": "stream",
     "name": "stdout",
     "text": [
      "\nAdversarial image at step 40. L2 error 1.4639696 and class label 4.\n"
     ]
    },
    {
     "output_type": "display_data",
     "data": {
      "text/plain": "HBox(children=(HTML(value='HopSkipJump'), FloatProgress(value=0.0, max=1.0), HTML(value='')))",
      "application/vnd.jupyter.widget-view+json": {
       "version_major": 2,
       "version_minor": 0,
       "model_id": "b454f398d34d43829cab6fefc1c4d823"
      }
     },
     "metadata": {}
    },
    {
     "output_type": "stream",
     "name": "stdout",
     "text": [
      "\nAdversarial image at step 50. L2 error 1.308728 and class label 4.\n"
     ]
    },
    {
     "output_type": "display_data",
     "data": {
      "text/plain": "HBox(children=(HTML(value='HopSkipJump'), FloatProgress(value=0.0, max=1.0), HTML(value='')))",
      "application/vnd.jupyter.widget-view+json": {
       "version_major": 2,
       "version_minor": 0,
       "model_id": "6d7b24c6d89346f085c07c67261e6caf"
      }
     },
     "metadata": {}
    },
    {
     "output_type": "stream",
     "name": "stdout",
     "text": [
      "\nAdversarial image at step 60. L2 error 1.1807888 and class label 4.\n"
     ]
    },
    {
     "output_type": "display_data",
     "data": {
      "text/plain": "HBox(children=(HTML(value='HopSkipJump'), FloatProgress(value=0.0, max=1.0), HTML(value='')))",
      "application/vnd.jupyter.widget-view+json": {
       "version_major": 2,
       "version_minor": 0,
       "model_id": "7d7b500cba1246c692790be1967a5ef3"
      }
     },
     "metadata": {}
    },
    {
     "output_type": "stream",
     "name": "stdout",
     "text": [
      "\nAdversarial image at step 70. L2 error 1.0883933 and class label 4.\n"
     ]
    },
    {
     "output_type": "display_data",
     "data": {
      "text/plain": "HBox(children=(HTML(value='HopSkipJump'), FloatProgress(value=0.0, max=1.0), HTML(value='')))",
      "application/vnd.jupyter.widget-view+json": {
       "version_major": 2,
       "version_minor": 0,
       "model_id": "f2a93ad22809425eaf4d9d11e1e8568b"
      }
     },
     "metadata": {}
    },
    {
     "output_type": "stream",
     "name": "stdout",
     "text": [
      "\nAdversarial image at step 80. L2 error 1.0285068 and class label 4.\n"
     ]
    },
    {
     "output_type": "display_data",
     "data": {
      "text/plain": "HBox(children=(HTML(value='HopSkipJump'), FloatProgress(value=0.0, max=1.0), HTML(value='')))",
      "application/vnd.jupyter.widget-view+json": {
       "version_major": 2,
       "version_minor": 0,
       "model_id": "df54908e32d441e4a55d912572d48643"
      }
     },
     "metadata": {}
    },
    {
     "output_type": "stream",
     "name": "stdout",
     "text": [
      "\nAdversarial image at step 90. L2 error 0.9884027 and class label 4.\n"
     ]
    },
    {
     "output_type": "display_data",
     "data": {
      "text/plain": "HBox(children=(HTML(value='HopSkipJump'), FloatProgress(value=0.0, max=1.0), HTML(value='')))",
      "application/vnd.jupyter.widget-view+json": {
       "version_major": 2,
       "version_minor": 0,
       "model_id": "a0a22e88e77d404caffdbbb7ea020b41"
      }
     },
     "metadata": {}
    },
    {
     "output_type": "stream",
     "name": "stdout",
     "text": [
      "\nAdversarial image at step 100. L2 error 0.9533467 and class label 4.\n"
     ]
    },
    {
     "output_type": "display_data",
     "data": {
      "text/plain": "HBox(children=(HTML(value='HopSkipJump'), FloatProgress(value=0.0, max=1.0), HTML(value='')))",
      "application/vnd.jupyter.widget-view+json": {
       "version_major": 2,
       "version_minor": 0,
       "model_id": "bac805f38b47452d8ca3519a4832b32f"
      }
     },
     "metadata": {}
    },
    {
     "output_type": "stream",
     "name": "stdout",
     "text": [
      "\nAdversarial image at step 110. L2 error 0.9257924 and class label 4.\n"
     ]
    },
    {
     "output_type": "display_data",
     "data": {
      "text/plain": "HBox(children=(HTML(value='HopSkipJump'), FloatProgress(value=0.0, max=1.0), HTML(value='')))",
      "application/vnd.jupyter.widget-view+json": {
       "version_major": 2,
       "version_minor": 0,
       "model_id": "137aa5fee2214570bce0842bfbd8dbdf"
      }
     },
     "metadata": {}
    },
    {
     "output_type": "stream",
     "name": "stdout",
     "text": [
      "\nAdversarial image at step 120. L2 error 0.9090883 and class label 4.\n"
     ]
    },
    {
     "output_type": "display_data",
     "data": {
      "text/plain": "HBox(children=(HTML(value='HopSkipJump'), FloatProgress(value=0.0, max=1.0), HTML(value='')))",
      "application/vnd.jupyter.widget-view+json": {
       "version_major": 2,
       "version_minor": 0,
       "model_id": "f91c22cdeee6495e9e0618db123e5327"
      }
     },
     "metadata": {}
    },
    {
     "output_type": "stream",
     "name": "stdout",
     "text": [
      "\nAdversarial image at step 130. L2 error 0.8864597 and class label 4.\n"
     ]
    },
    {
     "output_type": "display_data",
     "data": {
      "text/plain": "HBox(children=(HTML(value='HopSkipJump'), FloatProgress(value=0.0, max=1.0), HTML(value='')))",
      "application/vnd.jupyter.widget-view+json": {
       "version_major": 2,
       "version_minor": 0,
       "model_id": "fc89669c88b245e89d995741e7384cf2"
      }
     },
     "metadata": {}
    },
    {
     "output_type": "stream",
     "name": "stdout",
     "text": [
      "\nAdversarial image at step 140. L2 error 0.8775178 and class label 4.\n"
     ]
    },
    {
     "output_type": "display_data",
     "data": {
      "text/plain": "HBox(children=(HTML(value='HopSkipJump'), FloatProgress(value=0.0, max=1.0), HTML(value='')))",
      "application/vnd.jupyter.widget-view+json": {
       "version_major": 2,
       "version_minor": 0,
       "model_id": "34b506e8637543ff96e239b1a8e451b0"
      }
     },
     "metadata": {}
    },
    {
     "output_type": "stream",
     "name": "stdout",
     "text": [
      "\nAdversarial image at step 150. L2 error 0.86756337 and class label 4.\n"
     ]
    },
    {
     "output_type": "display_data",
     "data": {
      "text/plain": "HBox(children=(HTML(value='HopSkipJump'), FloatProgress(value=0.0, max=1.0), HTML(value='')))",
      "application/vnd.jupyter.widget-view+json": {
       "version_major": 2,
       "version_minor": 0,
       "model_id": "6649a4ee04254631be1c272f1f9ae357"
      }
     },
     "metadata": {}
    },
    {
     "output_type": "stream",
     "name": "stdout",
     "text": [
      "\nAdversarial image at step 160. L2 error 0.8548716 and class label 4.\n"
     ]
    },
    {
     "output_type": "display_data",
     "data": {
      "text/plain": "HBox(children=(HTML(value='HopSkipJump'), FloatProgress(value=0.0, max=1.0), HTML(value='')))",
      "application/vnd.jupyter.widget-view+json": {
       "version_major": 2,
       "version_minor": 0,
       "model_id": "c939ce7afb5b4eed92b3bc5a8331f5d7"
      }
     },
     "metadata": {}
    },
    {
     "output_type": "stream",
     "name": "stdout",
     "text": [
      "\nAdversarial image at step 170. L2 error 0.8460522 and class label 4.\n"
     ]
    },
    {
     "output_type": "display_data",
     "data": {
      "text/plain": "HBox(children=(HTML(value='HopSkipJump'), FloatProgress(value=0.0, max=1.0), HTML(value='')))",
      "application/vnd.jupyter.widget-view+json": {
       "version_major": 2,
       "version_minor": 0,
       "model_id": "e741fed99411443fb96ef5796cc81a11"
      }
     },
     "metadata": {}
    },
    {
     "output_type": "stream",
     "name": "stdout",
     "text": [
      "\nAdversarial image at step 180. L2 error 0.8382203 and class label 4.\n"
     ]
    },
    {
     "output_type": "display_data",
     "data": {
      "text/plain": "HBox(children=(HTML(value='HopSkipJump'), FloatProgress(value=0.0, max=1.0), HTML(value='')))",
      "application/vnd.jupyter.widget-view+json": {
       "version_major": 2,
       "version_minor": 0,
       "model_id": "f48f24fda8de4f1a82a881b4f2d0607a"
      }
     },
     "metadata": {}
    },
    {
     "output_type": "stream",
     "name": "stdout",
     "text": [
      "\nAdversarial image at step 190. L2 error 0.8336882 and class label 4.\n"
     ]
    }
   ],
   "source": [
    "# HopSkipJump Untargeted Attack, without masking\n",
    "attack = HopSkipJump(classifier=pytorch_classifier, targeted=False, max_iter=0, max_eval=1000, init_eval=10)\n",
    "iter_step = 10\n",
    "x_adv = None \n",
    "for i in range(20): \n",
    "    x_adv = attack.generate(x=np.array([img_targ]), x_adv_init=x_adv, resume=True)\n",
    "    print(\"Adversarial image at step %d.\" % (i * iter_step), \"L2 error\", \n",
    "          np.linalg.norm(np.reshape(x_adv[0] - img_targ, [-1])),\n",
    "          \"and class label %d.\" % np.argmax(pytorch_classifier.predict(x_adv)[0]))\n",
    "    # plt.imshow(x_adv[0])\n",
    "    # plt.show(block=False)\n",
    "    \n",
    "    attack.max_iter = iter_step"
   ]
  },
  {
   "cell_type": "code",
   "execution_count": 50,
   "metadata": {},
   "outputs": [
    {
     "output_type": "display_data",
     "data": {
      "text/plain": "HBox(children=(HTML(value='HopSkipJump'), FloatProgress(value=0.0, max=1.0), HTML(value='')))",
      "application/vnd.jupyter.widget-view+json": {
       "version_major": 2,
       "version_minor": 0,
       "model_id": "273cd0e1a4e64558a8b14bfec3749e80"
      }
     },
     "metadata": {}
    },
    {
     "output_type": "stream",
     "name": "stdout",
     "text": [
      "\nAdversarial image at step 0. L2 error 8.234368 and class label 4.\n"
     ]
    },
    {
     "output_type": "display_data",
     "data": {
      "text/plain": "HBox(children=(HTML(value='HopSkipJump'), FloatProgress(value=0.0, max=1.0), HTML(value='')))",
      "application/vnd.jupyter.widget-view+json": {
       "version_major": 2,
       "version_minor": 0,
       "model_id": "01ae17a42f9a47c5af4507cb1929a778"
      }
     },
     "metadata": {}
    },
    {
     "output_type": "stream",
     "name": "stdout",
     "text": [
      "\nAdversarial image at step 10. L2 error 4.2260857 and class label 4.\n"
     ]
    },
    {
     "output_type": "display_data",
     "data": {
      "text/plain": "HBox(children=(HTML(value='HopSkipJump'), FloatProgress(value=0.0, max=1.0), HTML(value='')))",
      "application/vnd.jupyter.widget-view+json": {
       "version_major": 2,
       "version_minor": 0,
       "model_id": "cb8be4939e94499db268c9283945c182"
      }
     },
     "metadata": {}
    },
    {
     "output_type": "stream",
     "name": "stdout",
     "text": [
      "\nAdversarial image at step 20. L2 error 2.5395172 and class label 4.\n"
     ]
    },
    {
     "output_type": "display_data",
     "data": {
      "text/plain": "HBox(children=(HTML(value='HopSkipJump'), FloatProgress(value=0.0, max=1.0), HTML(value='')))",
      "application/vnd.jupyter.widget-view+json": {
       "version_major": 2,
       "version_minor": 0,
       "model_id": "f4b81cab839c40ceacea1b5c4fa67cd9"
      }
     },
     "metadata": {}
    },
    {
     "output_type": "stream",
     "name": "stdout",
     "text": [
      "\nAdversarial image at step 30. L2 error 1.8983347 and class label 4.\n"
     ]
    },
    {
     "output_type": "display_data",
     "data": {
      "text/plain": "HBox(children=(HTML(value='HopSkipJump'), FloatProgress(value=0.0, max=1.0), HTML(value='')))",
      "application/vnd.jupyter.widget-view+json": {
       "version_major": 2,
       "version_minor": 0,
       "model_id": "432c1b9761814b51a0b14e9b8a217f77"
      }
     },
     "metadata": {}
    },
    {
     "output_type": "stream",
     "name": "stdout",
     "text": [
      "\nAdversarial image at step 40. L2 error 1.5705712 and class label 4.\n"
     ]
    },
    {
     "output_type": "display_data",
     "data": {
      "text/plain": "HBox(children=(HTML(value='HopSkipJump'), FloatProgress(value=0.0, max=1.0), HTML(value='')))",
      "application/vnd.jupyter.widget-view+json": {
       "version_major": 2,
       "version_minor": 0,
       "model_id": "b720be9123f244d2b46bd5356bf11418"
      }
     },
     "metadata": {}
    },
    {
     "output_type": "stream",
     "name": "stdout",
     "text": [
      "\nAdversarial image at step 50. L2 error 1.3597726 and class label 4.\n"
     ]
    },
    {
     "output_type": "display_data",
     "data": {
      "text/plain": "HBox(children=(HTML(value='HopSkipJump'), FloatProgress(value=0.0, max=1.0), HTML(value='')))",
      "application/vnd.jupyter.widget-view+json": {
       "version_major": 2,
       "version_minor": 0,
       "model_id": "cedf7bc13fbf426d9551c3c1e1dcdf95"
      }
     },
     "metadata": {}
    },
    {
     "output_type": "stream",
     "name": "stdout",
     "text": [
      "\nAdversarial image at step 60. L2 error 1.2159569 and class label 4.\n"
     ]
    },
    {
     "output_type": "display_data",
     "data": {
      "text/plain": "HBox(children=(HTML(value='HopSkipJump'), FloatProgress(value=0.0, max=1.0), HTML(value='')))",
      "application/vnd.jupyter.widget-view+json": {
       "version_major": 2,
       "version_minor": 0,
       "model_id": "5f3ba34c7d2440949bff7db674a85683"
      }
     },
     "metadata": {}
    },
    {
     "output_type": "stream",
     "name": "stdout",
     "text": [
      "\nAdversarial image at step 70. L2 error 1.1325644 and class label 4.\n"
     ]
    },
    {
     "output_type": "display_data",
     "data": {
      "text/plain": "HBox(children=(HTML(value='HopSkipJump'), FloatProgress(value=0.0, max=1.0), HTML(value='')))",
      "application/vnd.jupyter.widget-view+json": {
       "version_major": 2,
       "version_minor": 0,
       "model_id": "52a339f1f8d2439baec0e32219ed0014"
      }
     },
     "metadata": {}
    },
    {
     "output_type": "stream",
     "name": "stdout",
     "text": [
      "\nAdversarial image at step 80. L2 error 1.075683 and class label 4.\n"
     ]
    },
    {
     "output_type": "display_data",
     "data": {
      "text/plain": "HBox(children=(HTML(value='HopSkipJump'), FloatProgress(value=0.0, max=1.0), HTML(value='')))",
      "application/vnd.jupyter.widget-view+json": {
       "version_major": 2,
       "version_minor": 0,
       "model_id": "361654b7aedf4700bddd9b31ed58844b"
      }
     },
     "metadata": {}
    },
    {
     "output_type": "stream",
     "name": "stdout",
     "text": [
      "\nAdversarial image at step 90. L2 error 1.0194119 and class label 4.\n"
     ]
    },
    {
     "output_type": "display_data",
     "data": {
      "text/plain": "HBox(children=(HTML(value='HopSkipJump'), FloatProgress(value=0.0, max=1.0), HTML(value='')))",
      "application/vnd.jupyter.widget-view+json": {
       "version_major": 2,
       "version_minor": 0,
       "model_id": "731ccf5e618a4c82ad57114a35d115fa"
      }
     },
     "metadata": {}
    },
    {
     "output_type": "stream",
     "name": "stdout",
     "text": [
      "\nAdversarial image at step 100. L2 error 0.9847687 and class label 4.\n"
     ]
    },
    {
     "output_type": "display_data",
     "data": {
      "text/plain": "HBox(children=(HTML(value='HopSkipJump'), FloatProgress(value=0.0, max=1.0), HTML(value='')))",
      "application/vnd.jupyter.widget-view+json": {
       "version_major": 2,
       "version_minor": 0,
       "model_id": "a73f805cb78e436493203ec0f03c86a0"
      }
     },
     "metadata": {}
    },
    {
     "output_type": "stream",
     "name": "stdout",
     "text": [
      "\nAdversarial image at step 110. L2 error 0.95514673 and class label 4.\n"
     ]
    },
    {
     "output_type": "display_data",
     "data": {
      "text/plain": "HBox(children=(HTML(value='HopSkipJump'), FloatProgress(value=0.0, max=1.0), HTML(value='')))",
      "application/vnd.jupyter.widget-view+json": {
       "version_major": 2,
       "version_minor": 0,
       "model_id": "79a615da837d4f3a85f937c3d92fde21"
      }
     },
     "metadata": {}
    },
    {
     "output_type": "stream",
     "name": "stdout",
     "text": [
      "\nAdversarial image at step 120. L2 error 0.92639124 and class label 4.\n"
     ]
    },
    {
     "output_type": "display_data",
     "data": {
      "text/plain": "HBox(children=(HTML(value='HopSkipJump'), FloatProgress(value=0.0, max=1.0), HTML(value='')))",
      "application/vnd.jupyter.widget-view+json": {
       "version_major": 2,
       "version_minor": 0,
       "model_id": "6228b1f222854f32ab424c6fba0a7faa"
      }
     },
     "metadata": {}
    },
    {
     "output_type": "stream",
     "name": "stdout",
     "text": [
      "\nAdversarial image at step 130. L2 error 0.90189505 and class label 4.\n"
     ]
    },
    {
     "output_type": "display_data",
     "data": {
      "text/plain": "HBox(children=(HTML(value='HopSkipJump'), FloatProgress(value=0.0, max=1.0), HTML(value='')))",
      "application/vnd.jupyter.widget-view+json": {
       "version_major": 2,
       "version_minor": 0,
       "model_id": "0fb8601d41074b0894e3e3d9228412cf"
      }
     },
     "metadata": {}
    },
    {
     "output_type": "stream",
     "name": "stdout",
     "text": [
      "\nAdversarial image at step 140. L2 error 0.88802904 and class label 4.\n"
     ]
    },
    {
     "output_type": "display_data",
     "data": {
      "text/plain": "HBox(children=(HTML(value='HopSkipJump'), FloatProgress(value=0.0, max=1.0), HTML(value='')))",
      "application/vnd.jupyter.widget-view+json": {
       "version_major": 2,
       "version_minor": 0,
       "model_id": "af4d73306aa5432b9cdafd87ec6118f5"
      }
     },
     "metadata": {}
    },
    {
     "output_type": "stream",
     "name": "stdout",
     "text": [
      "\nAdversarial image at step 150. L2 error 0.874768 and class label 4.\n"
     ]
    },
    {
     "output_type": "display_data",
     "data": {
      "text/plain": "HBox(children=(HTML(value='HopSkipJump'), FloatProgress(value=0.0, max=1.0), HTML(value='')))",
      "application/vnd.jupyter.widget-view+json": {
       "version_major": 2,
       "version_minor": 0,
       "model_id": "469dbfc561d94222a657d05555067219"
      }
     },
     "metadata": {}
    },
    {
     "output_type": "stream",
     "name": "stdout",
     "text": [
      "\nAdversarial image at step 160. L2 error 0.8601834 and class label 4.\n"
     ]
    },
    {
     "output_type": "display_data",
     "data": {
      "text/plain": "HBox(children=(HTML(value='HopSkipJump'), FloatProgress(value=0.0, max=1.0), HTML(value='')))",
      "application/vnd.jupyter.widget-view+json": {
       "version_major": 2,
       "version_minor": 0,
       "model_id": "1299104e65b24a2db1486773f1cf99ff"
      }
     },
     "metadata": {}
    },
    {
     "output_type": "stream",
     "name": "stdout",
     "text": [
      "\nAdversarial image at step 170. L2 error 0.8514108 and class label 4.\n"
     ]
    },
    {
     "output_type": "display_data",
     "data": {
      "text/plain": "HBox(children=(HTML(value='HopSkipJump'), FloatProgress(value=0.0, max=1.0), HTML(value='')))",
      "application/vnd.jupyter.widget-view+json": {
       "version_major": 2,
       "version_minor": 0,
       "model_id": "da84c953e64d49cfa0b144a5cde9299f"
      }
     },
     "metadata": {}
    },
    {
     "output_type": "stream",
     "name": "stdout",
     "text": [
      "\nAdversarial image at step 180. L2 error 0.838787 and class label 4.\n"
     ]
    },
    {
     "output_type": "display_data",
     "data": {
      "text/plain": "HBox(children=(HTML(value='HopSkipJump'), FloatProgress(value=0.0, max=1.0), HTML(value='')))",
      "application/vnd.jupyter.widget-view+json": {
       "version_major": 2,
       "version_minor": 0,
       "model_id": "b849209c34f34d19b5c63dfad700a249"
      }
     },
     "metadata": {}
    },
    {
     "output_type": "stream",
     "name": "stdout",
     "text": [
      "\nAdversarial image at step 190. L2 error 0.83319664 and class label 4.\n"
     ]
    }
   ],
   "source": [
    "# HopSkipJump Untargeted Attack, without masking\n",
    "attack = HopSkipJump(classifier=pytorch_classifier, targeted=False, max_iter=0, max_eval=1000, init_eval=10)\n",
    "iter_step = 10\n",
    "x_adv = None \n",
    "mask = np.random.binomial(n=1, p=0.1, size=np.prod(img_targ.shape))\n",
    "mask = mask.reshape(img_targ.shape)\n",
    "for i in range(20): \n",
    "    x_adv = attack.generate(x=np.array([img_targ]), x_adv_init=x_adv, resume=True)\n",
    "    print(\"Adversarial image at step %d.\" % (i * iter_step), \"L2 error\", \n",
    "          np.linalg.norm(np.reshape(x_adv[0] - img_targ, [-1])),\n",
    "          \"and class label %d.\" % np.argmax(pytorch_classifier.predict(x_adv)[0]))\n",
    "    # plt.imshow(x_adv[0])\n",
    "    # plt.show(block=False)\n",
    "    \n",
    "    attack.max_iter = iter_step"
   ]
  },
  {
   "cell_type": "code",
   "execution_count": 8,
   "metadata": {},
   "outputs": [
    {
     "output_type": "display_data",
     "data": {
      "text/plain": "HBox(children=(HTML(value='HopSkipJump'), FloatProgress(value=0.0, max=1.0), HTML(value='')))",
      "application/vnd.jupyter.widget-view+json": {
       "version_major": 2,
       "version_minor": 0,
       "model_id": "88d9205163ca4183b113d56e4da2fe3a"
      }
     },
     "metadata": {}
    },
    {
     "output_type": "stream",
     "name": "stdout",
     "text": [
      "\n"
     ]
    },
    {
     "output_type": "error",
     "ename": "ValueError",
     "evalue": "not enough values to unpack (expected 2, got 1)",
     "traceback": [
      "\u001b[0;31m---------------------------------------------------------------------------\u001b[0m",
      "\u001b[0;31mValueError\u001b[0m                                Traceback (most recent call last)",
      "\u001b[0;32m<ipython-input-8-52525e0c1a86>\u001b[0m in \u001b[0;36m<module>\u001b[0;34m\u001b[0m\n\u001b[1;32m      4\u001b[0m \u001b[0mx_adv\u001b[0m \u001b[0;34m=\u001b[0m \u001b[0;32mNone\u001b[0m\u001b[0;34m\u001b[0m\u001b[0;34m\u001b[0m\u001b[0m\n\u001b[1;32m      5\u001b[0m \u001b[0;32mfor\u001b[0m \u001b[0mi\u001b[0m \u001b[0;32min\u001b[0m \u001b[0mrange\u001b[0m\u001b[0;34m(\u001b[0m\u001b[0;36m20\u001b[0m\u001b[0;34m)\u001b[0m\u001b[0;34m:\u001b[0m\u001b[0;34m\u001b[0m\u001b[0;34m\u001b[0m\u001b[0m\n\u001b[0;32m----> 6\u001b[0;31m     \u001b[0mx_adv\u001b[0m\u001b[0;34m,\u001b[0m \u001b[0mnum_queries\u001b[0m \u001b[0;34m=\u001b[0m \u001b[0mattack\u001b[0m\u001b[0;34m.\u001b[0m\u001b[0mgenerate\u001b[0m\u001b[0;34m(\u001b[0m\u001b[0mx\u001b[0m\u001b[0;34m=\u001b[0m\u001b[0mnp\u001b[0m\u001b[0;34m.\u001b[0m\u001b[0marray\u001b[0m\u001b[0;34m(\u001b[0m\u001b[0;34m[\u001b[0m\u001b[0mimg_targ\u001b[0m\u001b[0;34m]\u001b[0m\u001b[0;34m)\u001b[0m\u001b[0;34m,\u001b[0m \u001b[0my\u001b[0m\u001b[0;34m=\u001b[0m\u001b[0mto_categorical\u001b[0m\u001b[0;34m(\u001b[0m\u001b[0;34m[\u001b[0m\u001b[0;36m5\u001b[0m\u001b[0;34m]\u001b[0m\u001b[0;34m,\u001b[0m \u001b[0;36m10\u001b[0m\u001b[0;34m)\u001b[0m\u001b[0;34m,\u001b[0m \u001b[0mx_adv_init\u001b[0m\u001b[0;34m=\u001b[0m\u001b[0mx_adv\u001b[0m\u001b[0;34m,\u001b[0m \u001b[0mresume\u001b[0m\u001b[0;34m=\u001b[0m\u001b[0;32mTrue\u001b[0m\u001b[0;34m)\u001b[0m\u001b[0;34m\u001b[0m\u001b[0;34m\u001b[0m\u001b[0m\n\u001b[0m\u001b[1;32m      7\u001b[0m     print(\"Adversarial image at step %d.\" % (i * iter_step), \"L2 error\", \n\u001b[1;32m      8\u001b[0m           \u001b[0mnp\u001b[0m\u001b[0;34m.\u001b[0m\u001b[0mlinalg\u001b[0m\u001b[0;34m.\u001b[0m\u001b[0mnorm\u001b[0m\u001b[0;34m(\u001b[0m\u001b[0mnp\u001b[0m\u001b[0;34m.\u001b[0m\u001b[0mreshape\u001b[0m\u001b[0;34m(\u001b[0m\u001b[0mx_adv\u001b[0m\u001b[0;34m[\u001b[0m\u001b[0;36m0\u001b[0m\u001b[0;34m]\u001b[0m \u001b[0;34m-\u001b[0m \u001b[0mimg_targ\u001b[0m\u001b[0;34m,\u001b[0m \u001b[0;34m[\u001b[0m\u001b[0;34m-\u001b[0m\u001b[0;36m1\u001b[0m\u001b[0;34m]\u001b[0m\u001b[0;34m)\u001b[0m\u001b[0;34m)\u001b[0m\u001b[0;34m,\u001b[0m\u001b[0;34m\u001b[0m\u001b[0;34m\u001b[0m\u001b[0m\n",
      "\u001b[0;31mValueError\u001b[0m: not enough values to unpack (expected 2, got 1)"
     ]
    }
   ],
   "source": [
    "# HopSkipJump targeted Attack, without masking\n",
    "attack = HopSkipJump(classifier=pytorch_classifier, targeted=True, max_iter=0, max_eval=1000, init_eval=10, verbose=True)\n",
    "iter_step = 10\n",
    "x_adv = None \n",
    "for i in range(20): \n",
    "    x_adv, num_queries = attack.generate(x=np.array([img_targ]), y=to_categorical([5], 10), x_adv_init=x_adv, resume=True)\n",
    "    print(\"Adversarial image at step %d.\" % (i * iter_step), \"L2 error\", \n",
    "          np.linalg.norm(np.reshape(x_adv[0] - img_targ, [-1])),\n",
    "          \"and class label %d.\" % np.argmax(pytorch_classifier.predict(x_adv)[0]))\n",
    "    print(f\"Number of queries used: {num_queries}\")\n",
    "    # plt.imshow(x_adv[0])\n",
    "    # plt.show(block=False)\n",
    "    \n",
    "    attack.max_iter = iter_step"
   ]
  },
  {
   "cell_type": "code",
   "execution_count": null,
   "metadata": {},
   "outputs": [],
   "source": []
  }
 ]
}